{
 "cells": [
  {
   "cell_type": "code",
   "execution_count": 2,
   "metadata": {
    "collapsed": false
   },
   "outputs": [],
   "source": [
    "from __future__ import division\n",
    "from gurobipy import *\n",
    "import numpy as np\n",
    "import os\n",
    "import csv\n",
    "import seaborn as sns\n",
    "import scipy as sp\n",
    "import operator\n",
    "import psycopg2\n",
    "import folium as flm\n",
    "import string\n",
    "import mysql.connector as mdb\n",
    "import pandas as pd\n",
    "import json\n",
    "import datetime\n",
    "import folium\n",
    "import matplotlib\n",
    "import matplotlib.dates as mdates\n",
    "import matplotlib.pyplot as plt\n",
    "import matplotlib.cm as cm\n",
    "%matplotlib inline\n",
    "matplotlib.rc('text', usetex=False)\n",
    "matplotlib.rcParams.update({'font.size': 18})\n",
    "matplotlib.rcParams.update({'legend.fontsize': 16})\n",
    "\n",
    "\n",
    "\n",
    "from IPython.display import clear_output\n",
    "from IPython.display import HTML\n",
    "from matplotlib.ticker import MultipleLocator\n",
    "from heapq import merge\n",
    "\n",
    "\n",
    "def inline_map(map1):\n",
    "    map1._build_map()\n",
    "    return HTML('<iframe srcdoc=\"{srcdoc}\" style=\"width: 100%; height: 600px; border: none\"></iframe>'.format(srcdoc=map1.HTML.replace('\"', '&quot;')))\n",
    "\n",
    "def embed_map(map1, path=\"map.html\"):\n",
    "    map1.create_map(path=path)\n",
    "    return HTML('<iframe src=\"files/{path}\" style=\"width: 100%; height: 600px; border: none\"></iframe>'.format(path=path))\n",
    "\n",
    "\n"
   ]
  },
  {
   "cell_type": "raw",
   "metadata": {},
   "source": [
    "mysql> show fields from mindata;\n",
    "+---------------------+-------------+------+-----+---------+-------+\n",
    "| Field               | Type        | Null | Key | Default | Extra |\n",
    "+---------------------+-------------+------+-----+---------+-------+\n",
    "| EVSE_ID             | int(6)      | YES  |     | NULL    |       |\n",
    "| PORT_TYPE           | varchar(5)  | YES  |     | NULL    |       |\n",
    "| DRIVER_ID           | int(10)     | YES  |     | NULL    |       |\n",
    "| EVENT_ID            | int(10)     | YES  | MUL | NULL    |       |\n",
    "| INTERVAL_START_DATE | date        | YES  | MUL | NULL    |       |\n",
    "| INTERVAL_START_TIME | time        | YES  | MUL | NULL    |       |\n",
    "| INTERVAL_STOP_DATE  | date        | YES  | MUL | NULL    |       |\n",
    "| INTERVAL_STOP_TIME  | time        | YES  | MUL | NULL    |       |\n",
    "| INTERVAL_TIME_ZONE  | varchar(5)  | YES  |     | NULL    |       |\n",
    "| PEAK_POWER          | float(12,6) | YES  |     | NULL    |       |\n",
    "| AVERAGE_POWER       | float(12,6) | YES  | MUL | NULL    |       |\n",
    "| ENERGY              | float(12,6) | YES  |     | NULL    |       |\n",
    "| EVSE_ZIP            | int(5)      | YES  | MUL | NULL    |       |\n",
    "| sublap              | varchar(30) | YES  | MUL | NULL    |       |\n",
    "+---------------------+-------------+------+-----+---------+-------+\n",
    "\n",
    "+--------------------+-------------+------+-----+---------+-------+\n",
    "| Field              | Type        | Null | Key | Default | Extra |\n",
    "+--------------------+-------------+------+-----+---------+-------+\n",
    "| EVSE_ID            | int(6)      | YES  |     | NULL    |       |\n",
    "| PORT_TYPE          | varchar(5)  | YES  |     | NULL    |       |\n",
    "| DRIVER_ID          | int(10)     | YES  |     | NULL    |       |\n",
    "| EVENT_ID           | int(10)     | YES  |     | NULL    |       |\n",
    "| EVSE_COUNTRY       | varchar(20) | YES  |     | NULL    |       |\n",
    "| EVSE_STATE         | varchar(20) | YES  |     | NULL    |       |\n",
    "| EVSE_CITY          | varchar(20) | YES  |     | NULL    |       |\n",
    "| EVSE_ZIP           | int(5)      | YES  |     | NULL    |       |\n",
    "| SESSION_START_DATE | date        | YES  |     | NULL    |       |\n",
    "| SESSION_START_TIME | time        | YES  |     | NULL    |       |\n",
    "| SESSION_END_DATE   | date        | YES  |     | NULL    |       |\n",
    "| SESSION_END_TIME   | time        | YES  |     | NULL    |       |\n",
    "| SESSION_TIME_ZONE  | varchar(5)  | YES  |     | NULL    |       |\n",
    "| SESSION_LENGTH     | time        | YES  |     | NULL    |       |\n",
    "| ENERGY             | float(12,6) | YES  |     | NULL    |       |\n",
    "| ORG_ID             | varchar(10) | YES  |     | NULL    |       |\n",
    "| CATEGORY           | varchar(30) | YES  |     | NULL    |       |\n",
    "+--------------------+-------------+------+-----+---------+-------+"
   ]
  },
  {
   "cell_type": "code",
   "execution_count": 3,
   "metadata": {
    "collapsed": true
   },
   "outputs": [],
   "source": [
    "import socket\n",
    "socket_name=socket.gethostname()\n",
    "if socket_name=='emres-MBP':\n",
    "    os.system(\"ssh -p 5022 -f -N -L localhost:5433:localhost:5432 emre@bgrid.lbl.gov\")\n",
    "    os.system(\"ssh -f -N -L localhost:8800:localhost:3306 emre@bt-eplus.dhcp.lbl.gov\")\n",
    "else: \n",
    "    os.system(\"ssh -p 5022 -f -N -L localhost:5433:localhost:5432 emre@bgrid.lbl.gov\")"
   ]
  },
  {
   "cell_type": "code",
   "execution_count": 3,
   "metadata": {
    "collapsed": true
   },
   "outputs": [],
   "source": [
    "google_ev=pd.read_pickle('google_topflow_dweight.pkl')\n",
    "google_cdr=pd.read_pickle('google_topflow.pkl')"
   ]
  },
  {
   "cell_type": "code",
   "execution_count": 9,
   "metadata": {
    "collapsed": false
   },
   "outputs": [
    {
     "data": {
      "text/plain": [
       "[95051, 94085, 95035, 95129, 94539, 94043]"
      ]
     },
     "execution_count": 9,
     "metadata": {},
     "output_type": "execute_result"
    }
   ],
   "source": [
    "list(google_ev['origin_zip'])+[94043]"
   ]
  },
  {
   "cell_type": "code",
   "execution_count": 5,
   "metadata": {
    "collapsed": false
   },
   "outputs": [
    {
     "data": {
      "text/html": [
       "<div>\n",
       "<table border=\"1\" class=\"dataframe\">\n",
       "  <thead>\n",
       "    <tr style=\"text-align: right;\">\n",
       "      <th></th>\n",
       "      <th>origin_zip</th>\n",
       "      <th>flow</th>\n",
       "      <th>distance</th>\n",
       "      <th>route_distance</th>\n",
       "      <th>time</th>\n",
       "      <th>traffic_time</th>\n",
       "      <th>weighted_dist</th>\n",
       "      <th>p(distance)</th>\n",
       "      <th>flow_dweight</th>\n",
       "    </tr>\n",
       "  </thead>\n",
       "  <tbody>\n",
       "    <tr>\n",
       "      <th>49</th>\n",
       "      <td>94085</td>\n",
       "      <td>4.512549</td>\n",
       "      <td>5.72099</td>\n",
       "      <td>8.1594</td>\n",
       "      <td>472</td>\n",
       "      <td>525</td>\n",
       "      <td>1.012977</td>\n",
       "      <td>0.011601</td>\n",
       "      <td>0.052352</td>\n",
       "    </tr>\n",
       "    <tr>\n",
       "      <th>47</th>\n",
       "      <td>94087</td>\n",
       "      <td>1.951191</td>\n",
       "      <td>7.07228</td>\n",
       "      <td>9.5627</td>\n",
       "      <td>556</td>\n",
       "      <td>581</td>\n",
       "      <td>0.513334</td>\n",
       "      <td>0.011601</td>\n",
       "      <td>0.022637</td>\n",
       "    </tr>\n",
       "    <tr>\n",
       "      <th>6</th>\n",
       "      <td>94040</td>\n",
       "      <td>1.669936</td>\n",
       "      <td>3.22095</td>\n",
       "      <td>3.8608</td>\n",
       "      <td>363</td>\n",
       "      <td>411</td>\n",
       "      <td>0.177377</td>\n",
       "      <td>0.011601</td>\n",
       "      <td>0.019374</td>\n",
       "    </tr>\n",
       "    <tr>\n",
       "      <th>169</th>\n",
       "      <td>94539</td>\n",
       "      <td>1.447528</td>\n",
       "      <td>17.97180</td>\n",
       "      <td>27.5423</td>\n",
       "      <td>1297</td>\n",
       "      <td>1300</td>\n",
       "      <td>1.096848</td>\n",
       "      <td>0.023203</td>\n",
       "      <td>0.033587</td>\n",
       "    </tr>\n",
       "    <tr>\n",
       "      <th>26</th>\n",
       "      <td>95051</td>\n",
       "      <td>1.359786</td>\n",
       "      <td>10.39980</td>\n",
       "      <td>14.9363</td>\n",
       "      <td>884</td>\n",
       "      <td>954</td>\n",
       "      <td>0.558770</td>\n",
       "      <td>0.041434</td>\n",
       "      <td>0.056341</td>\n",
       "    </tr>\n",
       "  </tbody>\n",
       "</table>\n",
       "</div>"
      ],
      "text/plain": [
       "     origin_zip      flow  distance  route_distance  time  traffic_time  \\\n",
       "49        94085  4.512549   5.72099          8.1594   472           525   \n",
       "47        94087  1.951191   7.07228          9.5627   556           581   \n",
       "6         94040  1.669936   3.22095          3.8608   363           411   \n",
       "169       94539  1.447528  17.97180         27.5423  1297          1300   \n",
       "26        95051  1.359786  10.39980         14.9363   884           954   \n",
       "\n",
       "     weighted_dist  p(distance)  flow_dweight  \n",
       "49        1.012977     0.011601      0.052352  \n",
       "47        0.513334     0.011601      0.022637  \n",
       "6         0.177377     0.011601      0.019374  \n",
       "169       1.096848     0.023203      0.033587  \n",
       "26        0.558770     0.041434      0.056341  "
      ]
     },
     "execution_count": 5,
     "metadata": {},
     "output_type": "execute_result"
    }
   ],
   "source": [
    "google_cdr"
   ]
  },
  {
   "cell_type": "code",
   "execution_count": 10,
   "metadata": {
    "collapsed": true
   },
   "outputs": [],
   "source": [
    "google_ev_zips=list(google_ev['origin_zip'])+[94043]\n",
    "google_cdr_zips=list(google_cdr['origin_zip'])+[94043]"
   ]
  },
  {
   "cell_type": "code",
   "execution_count": 10,
   "metadata": {
    "collapsed": false
   },
   "outputs": [
    {
     "ename": "OperationalError",
     "evalue": "FATAL:  password authentication failed for user \"emre\"\nFATAL:  password authentication failed for user \"emre\"\n",
     "output_type": "error",
     "traceback": [
      "\u001b[1;31m---------------------------------------------------------------------------\u001b[0m",
      "\u001b[1;31mOperationalError\u001b[0m                          Traceback (most recent call last)",
      "\u001b[1;32m<ipython-input-10-8cd98ea332d6>\u001b[0m in \u001b[0;36m<module>\u001b[1;34m()\u001b[0m\n\u001b[0;32m      1\u001b[0m \u001b[1;32mimport\u001b[0m \u001b[0mpsycopg2\u001b[0m\u001b[1;33m\u001b[0m\u001b[0m\n\u001b[0;32m      2\u001b[0m \u001b[1;31m# connect over this tunnel\u001b[0m\u001b[1;33m\u001b[0m\u001b[1;33m\u001b[0m\u001b[0m\n\u001b[1;32m----> 3\u001b[1;33m \u001b[0mconn\u001b[0m \u001b[1;33m=\u001b[0m \u001b[0mpsycopg2\u001b[0m\u001b[1;33m.\u001b[0m\u001b[0mconnect\u001b[0m\u001b[1;33m(\u001b[0m\u001b[0mdatabase\u001b[0m\u001b[1;33m=\u001b[0m\u001b[1;34m\"bgrid\"\u001b[0m\u001b[1;33m,\u001b[0m \u001b[0muser\u001b[0m\u001b[1;33m=\u001b[0m\u001b[1;34m\"emre\"\u001b[0m\u001b[1;33m,\u001b[0m \u001b[0mpassword\u001b[0m\u001b[1;33m=\u001b[0m\u001b[1;34m'Kara1234'\u001b[0m\u001b[1;33m,\u001b[0m \u001b[0mhost\u001b[0m\u001b[1;33m=\u001b[0m\u001b[1;34m\"localhost\"\u001b[0m\u001b[1;33m,\u001b[0m \u001b[0mport\u001b[0m\u001b[1;33m=\u001b[0m\u001b[1;34m\"5433\"\u001b[0m\u001b[1;33m)\u001b[0m\u001b[1;33m\u001b[0m\u001b[0m\n\u001b[0m\u001b[0;32m      4\u001b[0m \u001b[1;33m\u001b[0m\u001b[0m\n\u001b[0;32m      5\u001b[0m \u001b[1;33m\u001b[0m\u001b[0m\n",
      "\u001b[1;32m/usr/lib/python2.7/dist-packages/psycopg2/__init__.pyc\u001b[0m in \u001b[0;36mconnect\u001b[1;34m(dsn, database, user, password, host, port, connection_factory, async, **kwargs)\u001b[0m\n\u001b[0;32m    177\u001b[0m \u001b[1;33m\u001b[0m\u001b[0m\n\u001b[0;32m    178\u001b[0m     return _connect(dsn,\n\u001b[1;32m--> 179\u001b[1;33m         connection_factory=connection_factory, async=async)\n\u001b[0m\u001b[0;32m    180\u001b[0m \u001b[1;33m\u001b[0m\u001b[0m\n\u001b[0;32m    181\u001b[0m \u001b[1;33m\u001b[0m\u001b[0m\n",
      "\u001b[1;31mOperationalError\u001b[0m: FATAL:  password authentication failed for user \"emre\"\nFATAL:  password authentication failed for user \"emre\"\n"
     ]
    }
   ],
   "source": [
    "import psycopg2\n",
    "# connect over this tunnel \n",
    "conn = psycopg2.connect(database=\"bgrid\", user=\"emre\", password='Kara1234', host=\"localhost\", port=\"5433\")\n",
    "\n",
    "\n",
    "# Open a cursor to perform database operations\n",
    "cur = conn.cursor()\n",
    "\n",
    "zip_codes_visited=np.array(google_ev_zips)\n",
    "visited_zips=str(np.array_str(zip_codes_visited)).replace('[','').replace(']','').replace(' ',',')\n",
    "\n",
    "# GETTING POLYGON DATA FROM SWITCH-DB2 and WRITE IT TO A LOCAL JSON FILE FOR FOLIUM\n",
    "\n",
    "getJSON='''SELECT row_to_json(fc)\n",
    "FROM ( SELECT 'FeatureCollection' As type, array_to_json(array_agg(f)) As features\n",
    "FROM (SELECT 'Feature' As type\n",
    "   , ST_AsGeoJSON(lg.geom)::json As geometry\n",
    "    , row_to_json(lp) As properties\n",
    "  FROM gis_data.census_zcta As lg\n",
    "       INNER JOIN (SELECT aland10, geoid10 FROM gis_data.census_zcta where CAST (geoid10 AS INTEGER) IN ({})) As lp\n",
    "      ON lg.geoid10 = lp.geoid10  ) As f )  As fc;'''.format(visited_zips)\n",
    "cur.execute(getJSON)\n",
    "\n",
    "vals=cur.fetchall()\n",
    "json_to_write=json.dumps(vals[0][0])\n",
    "f = open('./google_ev_zips.json','w')\n",
    "f.write(json_to_write) \n",
    "f.close()\n",
    "conn.close()"
   ]
  },
  {
   "cell_type": "code",
   "execution_count": 22,
   "metadata": {
    "collapsed": false
   },
   "outputs": [],
   "source": [
    "# SUPLAP COLOR CODED PLOT\n",
    "map = folium.Map(location=[37.535238, -122.201525], zoom_start=10,tiles='Stamen Terrain')\n",
    "from itertools import cycle\n",
    "col_gen =['#7CB9E8','#FF7E00','#8DB600','#6E7F80','#FFE135','magenta','#553592','#0047AB','#black','#C53151','#7C0A02','cyan']\n",
    "ct=0\n",
    "map.geo_json(geo_path='./google_ev_zips.json',\n",
    "             fill_color=col_gen[ct], fill_opacity=0.85, line_opacity=0.7)\n",
    "map.create_map(path='mtn_ev_map.html')\n",
    "embed_map(map,path='mtn_ev_map.html')"
   ]
  },
  {
   "cell_type": "code",
   "execution_count": 1,
   "metadata": {
    "collapsed": false
   },
   "outputs": [
    {
     "data": {
      "text/plain": [
       "[0, 1, 2, 3, 4, 5, 6, 7, 8, 9]"
      ]
     },
     "execution_count": 1,
     "metadata": {},
     "output_type": "execute_result"
    }
   ],
   "source": [
    "range(10)"
   ]
  },
  {
   "cell_type": "code",
   "execution_count": null,
   "metadata": {
    "collapsed": true
   },
   "outputs": [],
   "source": []
  }
 ],
 "metadata": {
  "kernelspec": {
   "display_name": "Python 2",
   "language": "python",
   "name": "python2"
  },
  "language_info": {
   "codemirror_mode": {
    "name": "ipython",
    "version": 2
   },
   "file_extension": ".py",
   "mimetype": "text/x-python",
   "name": "python",
   "nbconvert_exporter": "python",
   "pygments_lexer": "ipython2",
   "version": "2.7.12"
  }
 },
 "nbformat": 4,
 "nbformat_minor": 0
}
