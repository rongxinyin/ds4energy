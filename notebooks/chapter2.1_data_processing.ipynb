{
 "cells": [
  {
   "cell_type": "markdown",
   "metadata": {
    "vscode": {
     "languageId": "plaintext"
    }
   },
   "source": [
    "# Raw data cleaning and analysis using Pandas, Numpy\n",
    "\n",
    "Keywords: data cleaning, energy metrics, baseline"
   ]
  },
  {
   "cell_type": "markdown",
   "metadata": {
    "vscode": {
     "languageId": "plaintext"
    }
   },
   "source": [
    "This notebook demonstrates the use of Python library Pandas and Numpy to clean a set of building meter data and weather data for baseline model development and validation."
   ]
  },
  {
   "cell_type": "markdown",
   "metadata": {},
   "source": [
    "# Markdown Cell\n",
    "\"\"\"\n",
    "# Building Energy Data Analysis\n",
    "This notebook demonstrates the process of cleaning, processing, and analyzing building energy data and weather data to generate performance metrics.\n",
    "\n",
    "## Datasets\n",
    "1. **Meter Data**: Electrical power consumption data at 15-min intervals.\n",
    "2. **Weather Data**: Weather observations at 15-min intervals.\n",
    "3. **Site Descriptions**: Metadata about building sites.\n",
    "\n",
    "## Objectives\n",
    "- Clean and preprocess the data.\n",
    "- Merge datasets for integrated analysis.\n",
    "- Calculate building energy performance metrics.\n",
    "- Export the metrics in JSON format.\n",
    "\"\"\""
   ]
  },
  {
   "cell_type": "markdown",
   "metadata": {
    "vscode": {
     "languageId": "plaintext"
    }
   },
   "source": [
    "## Imports"
   ]
  },
  {
   "cell_type": "code",
   "execution_count": 2,
   "metadata": {},
   "outputs": [],
   "source": [
    "import pandas as pd\n",
    "import numpy as np\n",
    "import sys\n",
    "import os\n",
    "import json\n",
    "import matplotlib.pyplot as plt\n"
   ]
  },
  {
   "cell_type": "markdown",
   "metadata": {},
   "source": [
    "## Step 1: Load the Datasets\n",
    "We load the meter data, weather data, and site descriptions for analysis."
   ]
  },
  {
   "cell_type": "code",
   "execution_count": 3,
   "metadata": {},
   "outputs": [
    {
     "data": {
      "text/plain": [
       "(      datetime           site_id  power\n",
       " 0  6/1/08 0:00  TwoCarnegiePlaza  36.00\n",
       " 1  6/1/08 0:15  TwoCarnegiePlaza  37.44\n",
       " 2  6/1/08 0:30  TwoCarnegiePlaza  37.92\n",
       " 3  6/1/08 0:45  TwoCarnegiePlaza  37.44\n",
       " 4  6/1/08 1:00  TwoCarnegiePlaza  37.44,\n",
       "           time  apparentTemperature  cloudCover  dewPoint  humidity  \\\n",
       " 0  1/1/08 0:00                 8.22         0.0  -10.5800      0.24   \n",
       " 1  1/1/08 0:15                 8.34         0.0  -10.6125      0.24   \n",
       " 2  1/1/08 0:30                 8.46         0.0  -10.6450      0.24   \n",
       " 3  1/1/08 0:45                 8.58         0.0  -10.6775      0.24   \n",
       " 4  1/1/08 1:00                 8.70         0.0  -10.7100      0.24   \n",
       " \n",
       "           icon  precipIntensity  precipProbability precipType   pressure  \\\n",
       " 0  clear-night              0.0                0.0        NaN  1024.1900   \n",
       " 1          NaN              0.0                0.0        NaN  1024.0975   \n",
       " 2          NaN              0.0                0.0        NaN  1024.0050   \n",
       " 3          NaN              0.0                0.0        NaN  1023.9125   \n",
       " 4  clear-night              0.0                0.0        NaN  1023.8200   \n",
       " \n",
       "   summary  temperature  uvIndex  visibility  windBearing  windGust  windSpeed  \\\n",
       " 0   Clear         8.71      0.0      16.089        80.00     3.780     1.4600   \n",
       " 1     NaN         8.79      0.0      16.089        73.25     3.655     1.4375   \n",
       " 2     NaN         8.87      0.0      16.089        66.50     3.530     1.4150   \n",
       " 3     NaN         8.95      0.0      16.089        59.75     3.405     1.3925   \n",
       " 4   Clear         9.03      0.0      16.089        53.00     3.280     1.3700   \n",
       " \n",
       "       datetime  \n",
       " 0  1/1/08 0:00  \n",
       " 1  1/1/08 0:15  \n",
       " 2  1/1/08 0:30  \n",
       " 3  1/1/08 0:45  \n",
       " 4  1/1/08 1:00  ,\n",
       "                  site_id            city state  zipcode climate_zone    iso  \\\n",
       " 0     ThreeCarnegiePlaza  San Bernardino    CA    92408           3B  CAISO   \n",
       " 1       TwoCarnegiePlaza  San Bernardino    CA    92408           3B  CAISO   \n",
       " 2       OneCarnegiePlaza  San Bernardino    CA    92408           3B  CAISO   \n",
       " 3  OneCarnegiePlazaSmall  San Bernardino    CA    92408           3B  CAISO   \n",
       " 4          OneVanderbilt  San Bernardino    CA    92408           3B  CAISO   \n",
       " \n",
       "    floor_area construction hvac_plant  \\\n",
       " 0       83698     concrete        RTU   \n",
       " 1       68955     concrete        RTU   \n",
       " 2       62800     concrete        RTU   \n",
       " 3       38808     concrete        RTU   \n",
       " 4       73730     concrete        RTU   \n",
       " \n",
       "                                            address solar  \\\n",
       " 0     735 Carnegie Drive, San Bernardino, CA 92408    no   \n",
       " 1     685 Carnegie Drive, San Bernardino, CA 92408    no   \n",
       " 2     625 Carnegie Drive, San Bernardino, CA 92408    no   \n",
       " 3     621 Carnegie Drive, San Bernardino, CA 92408    no   \n",
       " 4  301 E. Vanderbilt Way, San Bernardino, CA 92408    no   \n",
       " \n",
       "                geolocation  \n",
       " 0  34.0683583,-117.2715597  \n",
       " 1  34.0683583,-117.2715597  \n",
       " 2  34.0683583,-117.2715597  \n",
       " 3  34.0683583,-117.2715597  \n",
       " 4  34.0683583,-117.2715597  )"
      ]
     },
     "execution_count": 3,
     "metadata": {},
     "output_type": "execute_result"
    }
   ],
   "source": [
    "# Load the data\n",
    "meter_data = pd.read_csv('data/chapter2/meter-data/TwoCarnegiePlaza.csv')\n",
    "weather_data = pd.read_csv('data/chapter2/SanBernadino_2018-01-01_2020-01-01_Weather.csv')\n",
    "site_description = pd.read_csv('data/chapter2/sites-desc.csv')\n",
    "\n",
    "# Display the first few rows of each dataset\n",
    "meter_data.head(), weather_data.head(), site_description.head()"
   ]
  },
  {
   "cell_type": "markdown",
   "metadata": {},
   "source": [
    "## Step 2: Clean and Preprocess the Data\n",
    "### Meter Data\n",
    "- Convert `datetime` to a proper timestamp.\n",
    "- Drop rows with missing or invalid power values.\n",
    "\n",
    "### Weather Data\n",
    "- Select relevant weather attributes.\n",
    "- Fill missing values with column means.\n",
    "\n",
    "### Site Descriptions\n",
    "- Ensure `site_id` values match across datasets."
   ]
  },
  {
   "cell_type": "code",
   "execution_count": null,
   "metadata": {},
   "outputs": [
    {
     "name": "stderr",
     "output_type": "stream",
     "text": [
      "/var/folders/fq/6vcnqd4d3nlcwtdmsgb31hx40000gn/T/ipykernel_42232/692558170.py:2: UserWarning: Could not infer format, so each element will be parsed individually, falling back to `dateutil`. To ensure parsing is consistent and as-expected, please specify a format.\n",
      "  meter_data['datetime'] = pd.to_datetime(meter_data['datetime'])\n",
      "/var/folders/fq/6vcnqd4d3nlcwtdmsgb31hx40000gn/T/ipykernel_42232/692558170.py:7: UserWarning: Could not infer format, so each element will be parsed individually, falling back to `dateutil`. To ensure parsing is consistent and as-expected, please specify a format.\n",
      "  weather_data['datetime'] = pd.to_datetime(weather_data['datetime'])\n"
     ]
    }
   ],
   "source": [
    "# Clean meter data\n",
    "meter_data['datetime'] = pd.to_datetime(meter_data['datetime'], format='%m/%d/%Y %H:%M:%S')\n",
    "meter_data = meter_data.dropna(subset=['power'])\n",
    "meter_data = meter_data[meter_data['power'] >= 0]\n",
    "\n",
    "# Clean weather data\n",
    "weather_data['datetime'] = pd.to_datetime(weather_data['datetime'], format='%m/%d/%Y %H:%M:%S')\n",
    "relevant_weather_columns = ['datetime', 'temperature', 'humidity', 'windSpeed', 'precipIntensity']\n",
    "weather_data = weather_data[relevant_weather_columns]\n",
    "weather_data = weather_data.fillna(weather_data.mean())\n",
    "\n",
    "# Filter site descriptions\n",
    "valid_site_ids = site_description['site_id'].unique()\n",
    "meter_data = meter_data[meter_data['site_id'].isin(valid_site_ids)]"
   ]
  },
  {
   "cell_type": "markdown",
   "metadata": {},
   "source": [
    "## Step 3: Merge Datasets\n",
    "Merge the meter data, weather data, and site descriptions for integrated analysis."
   ]
  },
  {
   "cell_type": "code",
   "execution_count": 5,
   "metadata": {},
   "outputs": [],
   "source": [
    "# Merge meter and weather data\n",
    "merged_data = pd.merge_asof(\n",
    "    meter_data.sort_values('datetime'), \n",
    "    weather_data.sort_values('datetime'), \n",
    "    on='datetime', \n",
    "    direction='nearest'\n",
    ")\n",
    "\n",
    "# Add site descriptions\n",
    "final_data = pd.merge(merged_data, site_description, on='site_id', how='left')"
   ]
  },
  {
   "cell_type": "markdown",
   "metadata": {},
   "source": [
    "## Step 4: Calculate Energy Performance Metrics\n",
    "Metrics include:\n",
    "- **Daily Energy Usage**: Sum of power readings per day.\n",
    "- **Energy Use Intensity (EUI)**: Total energy usage per floor area."
   ]
  },
  {
   "cell_type": "code",
   "execution_count": 6,
   "metadata": {},
   "outputs": [],
   "source": [
    "# Calculate daily metrics\n",
    "final_data['date'] = final_data['datetime'].dt.date\n",
    "daily_metrics = final_data.groupby(['site_id', 'date']).agg({\n",
    "    'power': 'sum',\n",
    "    'temperature': 'mean',\n",
    "    'humidity': 'mean',\n",
    "    'windSpeed': 'mean',\n",
    "    'precipIntensity': 'mean',\n",
    "    'floor_area': 'first'\n",
    "}).reset_index()\n",
    "\n",
    "# Calculate EUI\n",
    "daily_metrics['EUI'] = daily_metrics['power'] / daily_metrics['floor_area']"
   ]
  },
  {
   "cell_type": "markdown",
   "metadata": {},
   "source": [
    "## Step 5: Export Metrics\n",
    "Save the metrics as a JSON file for further use or sharing."
   ]
  },
  {
   "cell_type": "code",
   "execution_count": 8,
   "metadata": {},
   "outputs": [
    {
     "name": "stdout",
     "output_type": "stream",
     "text": [
      "Metrics exported to data/chapter2/building_energy_metrics.json\n"
     ]
    }
   ],
   "source": [
    "# Export metrics to JSON\n",
    "output_json_path = 'data/chapter2/building_energy_metrics.json'\n",
    "daily_metrics.set_index(['site_id', 'date']).to_json(output_json_path, orient='index')\n",
    "\n",
    "print(f\"Metrics exported to {output_json_path}\")"
   ]
  }
 ],
 "metadata": {
  "kernelspec": {
   "display_name": "myenv",
   "language": "python",
   "name": "python3"
  },
  "language_info": {
   "codemirror_mode": {
    "name": "ipython",
    "version": 3
   },
   "file_extension": ".py",
   "mimetype": "text/x-python",
   "name": "python",
   "nbconvert_exporter": "python",
   "pygments_lexer": "ipython3",
   "version": "3.12.2"
  }
 },
 "nbformat": 4,
 "nbformat_minor": 2
}
