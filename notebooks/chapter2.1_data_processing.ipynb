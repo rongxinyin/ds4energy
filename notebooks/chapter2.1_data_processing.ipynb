{
 "cells": [
  {
   "cell_type": "markdown",
   "metadata": {
    "vscode": {
     "languageId": "plaintext"
    }
   },
   "source": [
    "# Raw data cleaning and analysis using Pandas, Numpy\n",
    "\n",
    "Keywords: data cleaning, energy metrics, baseline"
   ]
  },
  {
   "cell_type": "markdown",
   "metadata": {
    "vscode": {
     "languageId": "plaintext"
    }
   },
   "source": [
    "This notebook demonstrates the use of Python library Pandas and Numpy to clean a set of building meter data and weather data for baseline model development and validation."
   ]
  },
  {
   "cell_type": "markdown",
   "metadata": {},
   "source": [
    "# Building Energy Data Analysis\n",
    "This notebook demonstrates the process of cleaning, processing, and analyzing building energy data and weather data to generate performance metrics.\n",
    "\n",
    "## Datasets\n",
    "1. **Meter Data**: Electrical power consumption data at 15-min intervals.\n",
    "2. **Weather Data**: Weather observations at 15-min intervals.\n",
    "3. **Site Descriptions**: Metadata about building sites.\n",
    "\n",
    "## Objectives\n",
    "- Clean and preprocess the data.\n",
    "- Merge datasets for integrated analysis.\n",
    "- Calculate building energy performance metrics.\n",
    "- Export the metrics in JSON format."
   ]
  },
  {
   "cell_type": "markdown",
   "metadata": {
    "vscode": {
     "languageId": "plaintext"
    }
   },
   "source": [
    "## Imports"
   ]
  },
  {
   "cell_type": "code",
   "execution_count": 3,
   "metadata": {},
   "outputs": [],
   "source": [
    "import pandas as pd\n",
    "import numpy as np\n",
    "import sys\n",
    "import os\n",
    "import json\n",
    "import matplotlib.pyplot as plt\n"
   ]
  },
  {
   "cell_type": "markdown",
   "metadata": {},
   "source": [
    "## Step 1: Load the Datasets\n",
    "We load the meter data, weather data, and site descriptions for analysis."
   ]
  },
  {
   "cell_type": "code",
   "execution_count": 8,
   "metadata": {},
   "outputs": [
    {
     "data": {
      "text/plain": [
       "(      datetime           site_id  power\n",
       " 0  6/1/08 0:00  TwoCarnegiePlaza  36.00\n",
       " 1  6/1/08 0:15  TwoCarnegiePlaza  37.44\n",
       " 2  6/1/08 0:30  TwoCarnegiePlaza  37.92\n",
       " 3  6/1/08 0:45  TwoCarnegiePlaza  37.44\n",
       " 4  6/1/08 1:00  TwoCarnegiePlaza  37.44,\n",
       "           time  apparentTemperature  cloudCover  dewPoint  humidity  \\\n",
       " 0  1/1/08 0:00                 8.22         0.0  -10.5800      0.24   \n",
       " 1  1/1/08 0:15                 8.34         0.0  -10.6125      0.24   \n",
       " 2  1/1/08 0:30                 8.46         0.0  -10.6450      0.24   \n",
       " 3  1/1/08 0:45                 8.58         0.0  -10.6775      0.24   \n",
       " 4  1/1/08 1:00                 8.70         0.0  -10.7100      0.24   \n",
       " \n",
       "           icon  precipIntensity  precipProbability precipType   pressure  \\\n",
       " 0  clear-night              0.0                0.0        NaN  1024.1900   \n",
       " 1          NaN              0.0                0.0        NaN  1024.0975   \n",
       " 2          NaN              0.0                0.0        NaN  1024.0050   \n",
       " 3          NaN              0.0                0.0        NaN  1023.9125   \n",
       " 4  clear-night              0.0                0.0        NaN  1023.8200   \n",
       " \n",
       "   summary  temperature  uvIndex  visibility  windBearing  windGust  windSpeed  \\\n",
       " 0   Clear         8.71      0.0      16.089        80.00     3.780     1.4600   \n",
       " 1     NaN         8.79      0.0      16.089        73.25     3.655     1.4375   \n",
       " 2     NaN         8.87      0.0      16.089        66.50     3.530     1.4150   \n",
       " 3     NaN         8.95      0.0      16.089        59.75     3.405     1.3925   \n",
       " 4   Clear         9.03      0.0      16.089        53.00     3.280     1.3700   \n",
       " \n",
       "       datetime  \n",
       " 0  1/1/08 0:00  \n",
       " 1  1/1/08 0:15  \n",
       " 2  1/1/08 0:30  \n",
       " 3  1/1/08 0:45  \n",
       " 4  1/1/08 1:00  ,\n",
       "                  site_id            city state  zipcode climate_zone    iso  \\\n",
       " 0     ThreeCarnegiePlaza  San Bernardino    CA    92408           3B  CAISO   \n",
       " 1       TwoCarnegiePlaza  San Bernardino    CA    92408           3B  CAISO   \n",
       " 2       OneCarnegiePlaza  San Bernardino    CA    92408           3B  CAISO   \n",
       " 3  OneCarnegiePlazaSmall  San Bernardino    CA    92408           3B  CAISO   \n",
       " 4          OneVanderbilt  San Bernardino    CA    92408           3B  CAISO   \n",
       " \n",
       "    floor_area construction hvac_plant  \\\n",
       " 0       83698     concrete        RTU   \n",
       " 1       68955     concrete        RTU   \n",
       " 2       62800     concrete        RTU   \n",
       " 3       38808     concrete        RTU   \n",
       " 4       73730     concrete        RTU   \n",
       " \n",
       "                                            address solar  \\\n",
       " 0     735 Carnegie Drive, San Bernardino, CA 92408    no   \n",
       " 1     685 Carnegie Drive, San Bernardino, CA 92408    no   \n",
       " 2     625 Carnegie Drive, San Bernardino, CA 92408    no   \n",
       " 3     621 Carnegie Drive, San Bernardino, CA 92408    no   \n",
       " 4  301 E. Vanderbilt Way, San Bernardino, CA 92408    no   \n",
       " \n",
       "                geolocation  \n",
       " 0  34.0683583,-117.2715597  \n",
       " 1  34.0683583,-117.2715597  \n",
       " 2  34.0683583,-117.2715597  \n",
       " 3  34.0683583,-117.2715597  \n",
       " 4  34.0683583,-117.2715597  )"
      ]
     },
     "execution_count": 8,
     "metadata": {},
     "output_type": "execute_result"
    }
   ],
   "source": [
    "# Load the data\n",
    "meter_data = pd.read_csv('data/chapter2/meter-data/TwoCarnegiePlaza.csv')\n",
    "weather_data = pd.read_csv('data/chapter2/SanBernadino_2018-01-01_2020-01-01_Weather.csv')\n",
    "site_description = pd.read_csv('data/chapter2/sites-desc.csv')\n",
    "\n",
    "# Display the first few rows of each dataset\n",
    "meter_data.head(), weather_data.head(), site_description.head()"
   ]
  },
  {
   "cell_type": "markdown",
   "metadata": {},
   "source": [
    "## Step 2: Clean and Preprocess the Data\n",
    "### Meter Data\n",
    "- Convert `datetime` to a proper timestamp.\n",
    "- Drop rows with missing or invalid power values.\n",
    "\n",
    "### Weather Data\n",
    "- Select relevant weather attributes.\n",
    "- Fill missing values with column means.\n",
    "\n",
    "### Site Descriptions\n",
    "- Ensure `site_id` values match across datasets."
   ]
  },
  {
   "cell_type": "code",
   "execution_count": 9,
   "metadata": {},
   "outputs": [
    {
     "name": "stderr",
     "output_type": "stream",
     "text": [
      "/var/folders/fq/6vcnqd4d3nlcwtdmsgb31hx40000gn/T/ipykernel_45411/3798752314.py:2: UserWarning: Could not infer format, so each element will be parsed individually, falling back to `dateutil`. To ensure parsing is consistent and as-expected, please specify a format.\n",
      "  meter_data['datetime'] = pd.to_datetime(meter_data['datetime'], errors='coerce')\n",
      "/var/folders/fq/6vcnqd4d3nlcwtdmsgb31hx40000gn/T/ipykernel_45411/3798752314.py:7: UserWarning: Could not infer format, so each element will be parsed individually, falling back to `dateutil`. To ensure parsing is consistent and as-expected, please specify a format.\n",
      "  weather_data['datetime'] = pd.to_datetime(weather_data['datetime'], errors='coerce')\n"
     ]
    }
   ],
   "source": [
    "# Clean meter data\n",
    "meter_data['datetime'] = pd.to_datetime(meter_data['datetime'], errors='coerce')\n",
    "meter_data = meter_data.dropna(subset=['power'])\n",
    "meter_data = meter_data[meter_data['power'] >= 0]\n",
    "\n",
    "# Clean weather data\n",
    "weather_data['datetime'] = pd.to_datetime(weather_data['datetime'], errors='coerce')\n",
    "relevant_weather_columns = ['datetime', 'temperature', 'humidity', 'windSpeed', 'precipIntensity']\n",
    "weather_data = weather_data[relevant_weather_columns]\n",
    "weather_data = weather_data.fillna(weather_data.mean())\n",
    "\n",
    "# Filter site descriptions\n",
    "valid_site_ids = site_description['site_id'].unique()\n",
    "meter_data = meter_data[meter_data['site_id'].isin(valid_site_ids)]"
   ]
  },
  {
   "cell_type": "markdown",
   "metadata": {},
   "source": [
    "## Step 3: Merge Datasets\n",
    "Merge the meter data, weather data, and site descriptions for integrated analysis."
   ]
  },
  {
   "cell_type": "code",
   "execution_count": 10,
   "metadata": {},
   "outputs": [],
   "source": [
    "# Merge meter and weather data\n",
    "merged_data = pd.merge_asof(\n",
    "    meter_data.sort_values('datetime'), \n",
    "    weather_data.sort_values('datetime'), \n",
    "    on='datetime', \n",
    "    direction='nearest'\n",
    ")\n",
    "\n",
    "# Add site descriptions\n",
    "final_data = pd.merge(merged_data, site_description, on='site_id', how='left')"
   ]
  },
  {
   "cell_type": "markdown",
   "metadata": {},
   "source": [
    "## Step 4: Calculate Energy Performance Metrics\n",
    "Metrics include:\n",
    "- **Daily Energy Usage**: Sum of power readings per day.\n",
    "- **Energy Use Intensity (EUI)**: Total energy usage per floor area."
   ]
  },
  {
   "cell_type": "code",
   "execution_count": 12,
   "metadata": {},
   "outputs": [],
   "source": [
    "# Define summer and winter seasons from utility perspective\n",
    "summer_months = [6, 7, 8, 9]  # June, July, August, September\n",
    "winter_months = [10, 11, 12, 1, 2, 3, 4, 5]  # Winter months\n",
    "\n",
    "# Add columns for easier filtering\n",
    "meter_data['month'] = meter_data['datetime'].dt.month\n",
    "meter_data['hour'] = meter_data['datetime'].dt.hour\n",
    "\n",
    "# Annual Electric Consumption - Summer (kWh)\n",
    "summer_consumption = meter_data[meter_data['month'].isin(summer_months)]['power'].sum()\n",
    "\n",
    "# Peak Electric Demand - Summer (kW)\n",
    "summer_peak_demand = meter_data[meter_data['month'].isin(summer_months)]['power'].max()\n",
    "\n",
    "# Peak Electric Demand - Winter (kW)\n",
    "winter_peak_demand = meter_data[meter_data['month'].isin(winter_months)]['power'].max()\n",
    "\n",
    "# Demand Threshold at the Top 50 Hours (kW)\n",
    "top_50_demand_threshold = meter_data['power'].nlargest(50).min()\n",
    "\n",
    "# Annual Electric Energy Intensity (kWh/sq.ft)\n",
    "annual_consumption = meter_data['power'].sum()\n",
    "site_floor_area = site_description['floor_area'].iloc[0]  # Assuming one site for simplicity\n",
    "annual_eui = annual_consumption / site_floor_area\n",
    "\n",
    "# Annual Peak Electric Demand Intensity (W/sq.ft)\n",
    "annual_peak_demand = meter_data['power'].max()\n",
    "peak_demand_intensity = annual_peak_demand / site_floor_area * 1000  # W/sq.ft\n",
    "\n",
    "# Weather Sensitivity - Occupied and Unoccupied\n",
    "# Occupied: Define occupied hours (e.g., 8 AM to 6 PM)\n",
    "occupied_hours = meter_data[(meter_data['hour'] >= 8) & (meter_data['hour'] <= 18)]\n",
    "unoccupied_hours = meter_data[(meter_data['hour'] < 8) | (meter_data['hour'] > 18)]\n",
    "\n",
    "# Merge with weather data\n",
    "occupied_weather = pd.merge_asof(occupied_hours.sort_values('datetime'), weather_data.sort_values('datetime'), on='datetime', direction='nearest')\n",
    "unoccupied_weather = pd.merge_asof(unoccupied_hours.sort_values('datetime'), weather_data.sort_values('datetime'), on='datetime', direction='nearest')\n",
    "\n",
    "# Correlation of weather sensitivity\n",
    "occupied_corr = occupied_weather[['power', 'temperature']].corr().iloc[0, 1]\n",
    "unoccupied_corr = unoccupied_weather[['power', 'temperature']].corr().iloc[0, 1]\n",
    "\n",
    "# Compile metrics into a dictionary\n",
    "performance_metrics = {\n",
    "    \"Annual Electric Consumption (Summer kWh)\": summer_consumption,\n",
    "    \"Peak Electric Demand (Summer kW)\": summer_peak_demand,\n",
    "    \"Peak Electric Demand (Winter kW)\": winter_peak_demand,\n",
    "    \"Demand Threshold at Top 50 Hours (kW)\": top_50_demand_threshold,\n",
    "    \"Annual Average Electric Energy Intensity (kWh/sq.ft)\": annual_eui,\n",
    "    \"Annual Peak Electric Demand Intensity (W/sq.ft)\": peak_demand_intensity,\n",
    "    \"Weather Sensitivity (Occupied)\": occupied_corr,\n",
    "    \"Weather Sensitivity (Unoccupied)\": unoccupied_corr\n",
    "}"
   ]
  },
  {
   "cell_type": "markdown",
   "metadata": {},
   "source": [
    "## Step 5: Export Metrics\n",
    "Save the metrics as a JSON file for further use or sharing."
   ]
  },
  {
   "cell_type": "code",
   "execution_count": 13,
   "metadata": {},
   "outputs": [
    {
     "name": "stdout",
     "output_type": "stream",
     "text": [
      "Metrics exported to data/chapter2/building_energy_performance_metrics.json\n"
     ]
    },
    {
     "data": {
      "text/plain": [
       "{'Annual Electric Consumption (Summer kWh)': 1322321.28,\n",
       " 'Peak Electric Demand (Summer kW)': 314.88,\n",
       " 'Peak Electric Demand (Winter kW)': nan,\n",
       " 'Demand Threshold at Top 50 Hours (kW)': 278.4,\n",
       " 'Annual Average Electric Energy Intensity (kWh/sq.ft)': 15.798720160577314,\n",
       " 'Annual Peak Electric Demand Intensity (W/sq.ft)': 3.7620970632512125,\n",
       " 'Weather Sensitivity (Occupied)': 0.28299283734436803,\n",
       " 'Weather Sensitivity (Unoccupied)': 0.2258003180235979}"
      ]
     },
     "execution_count": 13,
     "metadata": {},
     "output_type": "execute_result"
    }
   ],
   "source": [
    "# Export metrics to a JSON file\n",
    "output_json_path_metrics = 'data/chapter2/building_energy_performance_metrics.json'\n",
    "with open(output_json_path_metrics, 'w') as json_file:\n",
    "    json.dump(performance_metrics, json_file, indent=4)\n",
    "\n",
    "print(f\"Metrics exported to {output_json_path_metrics}\")\n",
    "\n",
    "# Display the performance metrics\n",
    "performance_metrics"
   ]
  },
  {
   "cell_type": "markdown",
   "metadata": {},
   "source": [
    "# Building Load Shape Analysis"
   ]
  },
  {
   "cell_type": "markdown",
   "metadata": {},
   "source": [
    "## Load Shape Metrics Summary\n",
    "\n",
    "Figure below shows several parameters that can be used to summarize load shape. The following metrics are used to characterize the load shape of a building's energy usage. These metrics provide insights into daily load patterns, peak demand behavior, and the overall energy profile of the building:\n",
    "\n",
    "### **1. Near-Peak Load**\n",
    "- **Definition**: The 97.5th percentile of the daily load.\n",
    "- **Purpose**: Represents the highest levels of energy demand, helping to identify peak usage patterns and their implications for system design and capacity planning.\n",
    "\n",
    "### **2. Near-Base Load**\n",
    "- **Definition**: The 2.5th percentile of the daily load.\n",
    "- **Purpose**: Reflects the minimum load during periods of low energy usage, often corresponding to off-peak times or base-level operations.\n",
    "\n",
    "### **3. High-Load Duration**\n",
    "- **Definition**: The duration (in hours) during which the load is closer to the near-peak load than to the near-base load.\n",
    "- **Purpose**: Indicates how long the system operates near its peak capacity, which has implications for energy costs and equipment wear.\n",
    "\n",
    "### **4. Rise Time**\n",
    "- **Definition**: The time (in hours) between the latest time in the morning when the load is close to the near-base load and the earliest time during the day when the load exceeds halfway to the near-peak load.\n",
    "- **Purpose**: Captures the speed of energy demand increase, which is critical for understanding ramp-up rates and their impact on energy systems.\n",
    "\n",
    "### **5. Fall Time**\n",
    "- **Definition**: The time (in hours) between the end of the high-load period and when the load returns to the near-base load.\n",
    "- **Purpose**: Describes how quickly energy usage decreases after peak periods, which is important for assessing system responsiveness and flexibility.\n",
    "\n",
    "These metrics collectively provide a detailed picture of energy load behavior, supporting the optimization of energy systems for efficiency, reliability, and cost-effectiveness.\n",
    "\n",
    "![Load Shape Parameters](figures/chapter1-load-shape.png)\n",
    "\n",
    "*Price, Phillip N. 2010. Methods for Analyzing Electric Load Shape and its Variability. Lawrence Berkeley National Laboratory, LBNL-3713E*"
   ]
  },
  {
   "cell_type": "code",
   "execution_count": 20,
   "metadata": {},
   "outputs": [
    {
     "data": {
      "text/plain": [
       "{'Near-Peak Load (kW)': 236.724,\n",
       " 'Near-Base Load (kW)': 44.087310344827586,\n",
       " 'Near-Peak Load Density (W/ft2)': 2.8283113097087145,\n",
       " 'Near-Base Load Density(W/ft2)': 0.5267426980910844,\n",
       " 'Base to Peak Ratio': 0.1862392927832733,\n",
       " 'High-Load Duration (hours)': 11,\n",
       " 'Rise Time (hours)': 8.192307692307692,\n",
       " 'Fall Time (hours)': 16}"
      ]
     },
     "execution_count": 20,
     "metadata": {},
     "output_type": "execute_result"
    }
   ],
   "source": [
    "# Proceed with filtering for weekdays\n",
    "meter_data['weekday'] = meter_data['datetime'].dt.weekday  # Monday = 0, Sunday = 6\n",
    "\n",
    "# Filter for weekdays (Monday to Friday)\n",
    "weekday_data = meter_data[meter_data['weekday'] < 5].copy()\n",
    "\n",
    "# Generate an average daily load profile on weekdays\n",
    "weekday_data['time'] = weekday_data['datetime'].dt.time\n",
    "average_daily_profile = weekday_data.groupby('hour')['power'].mean()\n",
    "\n",
    "# Calculate the load shape parameters\n",
    "near_peak_load = np.percentile(average_daily_profile, 97.5)\n",
    "near_base_load = np.percentile(average_daily_profile, 2.5)\n",
    "near_peak_load_density = np.percentile(average_daily_profile, 97.5) / site_floor_area * 1000  # Near-Peak Load Density (W/sq.ft)\n",
    "near_base_load_density = np.percentile(average_daily_profile, 2.5) / site_floor_area * 1000  # Near-Base Load Density (W/sq.ft)\n",
    "base_to_peak_ratio = near_base_load / near_peak_load  # Base to Peak Ratio\n",
    "high_load_mask = average_daily_profile >= ((near_peak_load + near_base_load) / 2)\n",
    "high_load_duration = len(average_daily_profile[high_load_mask])  # High-Load Duration\n",
    "base_to_peak_mask = average_daily_profile >= near_peak_load\n",
    "rise_time = np.argmax(base_to_peak_mask)  # Rise Time\n",
    "fall_time = len(average_daily_profile) - np.argmax(base_to_peak_mask[::-1])  # Fall Time\n",
    "\n",
    "# Define thresholds\n",
    "base_load_threshold = near_base_load * 1.1  # 10% above the near-base load\n",
    "midway_to_peak = (near_peak_load + near_base_load) / 2\n",
    "\n",
    "# Group by day for per-day analysis\n",
    "weekday_data['day'] = weekday_data['datetime'].dt.date\n",
    "daily_profiles = weekday_data.groupby(['day', 'hour'])['power'].mean().reset_index()\n",
    "\n",
    "# Initialize a list to store daily rise times\n",
    "daily_rise_times = []\n",
    "\n",
    "for day, group in daily_profiles.groupby('day'):\n",
    "    # Find the latest time in the morning (before 12:00 PM) close to the base load\n",
    "    morning_load = group[group['hour'] < 12]\n",
    "    latest_base_time = morning_load[morning_load['power'] <= base_load_threshold]['hour'].max()\n",
    "    \n",
    "    # Find the earliest time when the load exceeds halfway to the near-peak load\n",
    "    afternoon_load = group[group['hour'] >= 12]\n",
    "    earliest_midway_time = afternoon_load[afternoon_load['power'] >= midway_to_peak]['hour'].min()\n",
    "    \n",
    "    # Calculate rise time if both points are found\n",
    "    if pd.notnull(latest_base_time) and pd.notnull(earliest_midway_time):\n",
    "        daily_rise_times.append(earliest_midway_time - latest_base_time)\n",
    "\n",
    "# Calculate the average rise time across all weekdays\n",
    "average_rise_time = np.mean(daily_rise_times) if daily_rise_times else None\n",
    "\n",
    "# Organize results into a dictionary\n",
    "load_shape_parameters = {\n",
    "    \"Near-Peak Load (kW)\": near_peak_load,\n",
    "    \"Near-Base Load (kW)\": near_base_load,\n",
    "    \"Near-Peak Load Density (W/ft2)\": near_peak_load_density,\n",
    "    \"Near-Base Load Density(W/ft2)\": near_base_load_density,\n",
    "    \"Base to Peak Ratio\": base_to_peak_ratio,\n",
    "    \"High-Load Duration (hours)\": high_load_duration,\n",
    "    \"Rise Time (hours)\": average_rise_time,\n",
    "    \"Fall Time (hours)\": fall_time\n",
    "}\n",
    "\n",
    "load_shape_parameters"
   ]
  }
 ],
 "metadata": {
  "kernelspec": {
   "display_name": "myenv",
   "language": "python",
   "name": "python3"
  },
  "language_info": {
   "codemirror_mode": {
    "name": "ipython",
    "version": 3
   },
   "file_extension": ".py",
   "mimetype": "text/x-python",
   "name": "python",
   "nbconvert_exporter": "python",
   "pygments_lexer": "ipython3",
   "version": "3.12.2"
  }
 },
 "nbformat": 4,
 "nbformat_minor": 2
}
