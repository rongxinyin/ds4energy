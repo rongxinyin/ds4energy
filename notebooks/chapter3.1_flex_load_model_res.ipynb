{
 "cells": [
  {
   "cell_type": "markdown",
   "metadata": {},
   "source": [
    "# Residential Building Demand Flexibility Modeling\n",
    "\n",
    "Keywords: residential building, demand flexibility, thermostatically controlled loads (TCLs)"
   ]
  },
  {
   "cell_type": "markdown",
   "metadata": {},
   "source": [
    "This notebook demonstrates the use of Python library Pandas and Numpy to develop a set of models of thermostatically controlled loads (TCLs)."
   ]
  },
  {
   "cell_type": "markdown",
   "metadata": {},
   "source": [
    "# Thermostatically Controlled Loads (TCLs) Model\n",
    "This notebook demonstrates the development of thermostatically controlled loads, including air-conditioners, refrigerators, and electric water heaters."
   ]
  },
  {
   "cell_type": "code",
   "execution_count": null,
   "metadata": {
    "vscode": {
     "languageId": "plaintext"
    }
   },
   "outputs": [],
   "source": []
  }
 ],
 "metadata": {
  "language_info": {
   "name": "python"
  }
 },
 "nbformat": 4,
 "nbformat_minor": 2
}
